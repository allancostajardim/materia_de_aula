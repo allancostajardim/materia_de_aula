{
  "nbformat": 4,
  "nbformat_minor": 0,
  "metadata": {
    "colab": {
      "provenance": [],
      "authorship_tag": "ABX9TyO+R0owSc3wRSHUUMrZYWDd",
      "include_colab_link": true
    },
    "kernelspec": {
      "name": "python3",
      "display_name": "Python 3"
    },
    "language_info": {
      "name": "python"
    }
  },
  "cells": [
    {
      "cell_type": "markdown",
      "metadata": {
        "id": "view-in-github",
        "colab_type": "text"
      },
      "source": [
        "<a href=\"https://colab.research.google.com/github/allancostajardim/materia_de_aula/blob/main/Manipulando_variaveis_listas_dicionarios_tuplas.ipynb\" target=\"_parent\"><img src=\"https://colab.research.google.com/assets/colab-badge.svg\" alt=\"Open In Colab\"/></a>"
      ]
    },
    {
      "cell_type": "markdown",
      "source": [
        "##**DISCIPLINA LINGUAGEM DE PROGRAMAÇÃO - PROF. ALLAN JARDIM**\n",
        "#**IFES - CAMPUS SÃO MATEUS - ENG. MECÂNICA 2022/2**\n",
        "# Acompanhe os métodos a seguir para entender um pouco mais a respeito da manipulação de variáveis e listas em Python.\n",
        "Quando encontrar uma célula com códigos python, basta clicar na seta no canto superior esquerdo da mesma para execução e acompanhe os resultados."
      ],
      "metadata": {
        "id": "MgvMdHQp9KRI"
      }
    },
    {
      "cell_type": "markdown",
      "source": [
        "Para se utilizar uma variável em Python, basta utilizar a igualdade (**=**).\n",
        "Observe:\n"
      ],
      "metadata": {
        "id": "KcExjjyJ47Kd"
      }
    },
    {
      "cell_type": "code",
      "source": [
        "cliente_1 = 'LUIS HAMILTON'\n",
        "cliente_2 = 'Istive Jobs'\n",
        "cliente_3 = 'Pendriveson Oliveira'\n",
        "cliente_4 = 'Pedro Parque Silva'"
      ],
      "metadata": {
        "id": "1jkOeHSv6Uhp"
      },
      "execution_count": null,
      "outputs": []
    },
    {
      "cell_type": "markdown",
      "source": [
        "Entretanto, para não ser necessária a criação de tantas variáveis para manipular dados que tenham o mesmo objetivo, o Python atua com o conceito de listas. Então uma lista de clientes poderia ser criada como segue:\n"
      ],
      "metadata": {
        "id": "Q1oiXgqK6b6w"
      }
    },
    {
      "cell_type": "code",
      "source": [
        "clientes = ['LUIS HAMILTON', 'Istive Jobs','Pendriveson Oliveira','Pedro Parque Silva','Marilia Mendes','Daniel Ricardo']"
      ],
      "metadata": {
        "id": "Xrmb0dzs6iOk"
      },
      "execution_count": null,
      "outputs": []
    },
    {
      "cell_type": "markdown",
      "source": [
        "Para se manipular tais listas, os seguintes métodos podem ser utilizados: \n",
        "insert, append, len, remove. Observe:"
      ],
      "metadata": {
        "id": "e_eQihSr6muA"
      }
    },
    {
      "cell_type": "code",
      "source": [
        "print(clientes) #imprime o conteúdo da lista clientes\n",
        "len(clientes) #calcula a quantidade de dados na lista clientes\n",
        "print(clientes[2]) #imprime o dado da posição 2 da lista clientes (lembrando que a contagem começa em 0);"
      ],
      "metadata": {
        "id": "Gx4fti9l6M4N"
      },
      "execution_count": null,
      "outputs": []
    },
    {
      "cell_type": "code",
      "source": [
        "print(len(clientes))"
      ],
      "metadata": {
        "id": "RDP_L00X7ymx"
      },
      "execution_count": null,
      "outputs": []
    },
    {
      "cell_type": "code",
      "source": [
        "clientes.insert(1,'LEBRÃO JAMESON COSTA') #insere um cliente novo à lista na posição 1.\n",
        "print(clientes)"
      ],
      "metadata": {
        "id": "QCw5VdO478co"
      },
      "execution_count": null,
      "outputs": []
    },
    {
      "cell_type": "code",
      "source": [
        "clientes.remove('Istive Jobs') #remove o 'Istive Jobs' da lista\n",
        "print(clientes)"
      ],
      "metadata": {
        "id": "x9vumJ5G8Y7A"
      },
      "execution_count": null,
      "outputs": []
    },
    {
      "cell_type": "code",
      "source": [
        "clientes.append('Jordan Maicou Souza') #adiciona um novo cliente ao final da lista\n",
        "print(clientes)\n"
      ],
      "metadata": {
        "colab": {
          "base_uri": "https://localhost:8080/"
        },
        "id": "CyGRSdS186b4",
        "outputId": "c1146a54-6718-42f2-8252-699253aa7fc0"
      },
      "execution_count": null,
      "outputs": [
        {
          "output_type": "stream",
          "name": "stdout",
          "text": [
            "['LUIS HAMILTON', 'Istive Jobs', 'Pendriveson Oliveira', 'Pedro Parque Silva', 'Marilia Mendes', 'Daniel Ricardo', 'Jordan Maicou Souza']\n"
          ]
        }
      ]
    },
    {
      "cell_type": "markdown",
      "source": [
        "# É possível utilizar as estruturas tradicionais condicionais, repetição ou seleção nestas listas.\n",
        "**Observe e execute os códigos a seguir.**"
      ],
      "metadata": {
        "id": "fUA08oA86Nu4"
      }
    },
    {
      "cell_type": "code",
      "source": [
        "for i in clientes:\n",
        "  print(i.upper()) #imprime todos os dados em maiúsculas"
      ],
      "metadata": {
        "id": "6aa3E-eK94mm"
      },
      "execution_count": null,
      "outputs": []
    },
    {
      "cell_type": "code",
      "source": [
        "a = input('Digite um nome de cliente')\n",
        "if (a in clientes):\n",
        "  print(f'Voce digitou o nome do cliente {a}')\n",
        "else:\n",
        "  print(f'O clinte {a} digitado não é cliente da nossa empresa.')"
      ],
      "metadata": {
        "id": "H30KO0x--MVa"
      },
      "execution_count": null,
      "outputs": []
    },
    {
      "cell_type": "code",
      "source": [
        "while (len(clientes)>0): #Enquanto tamanho da lista for maior que zero, imprime a lista e exclui o primeiro membro.\n",
        "  print(clientes)\n",
        "  clientes.pop(0)\n",
        "\n"
      ],
      "metadata": {
        "colab": {
          "base_uri": "https://localhost:8080/"
        },
        "id": "onTnyvKwfr_R",
        "outputId": "fa93ac19-0a2f-4bc9-b683-270b6516b98d"
      },
      "execution_count": null,
      "outputs": [
        {
          "output_type": "stream",
          "name": "stdout",
          "text": [
            "['LUIS HAMILTON', 'Istive Jobs', 'Pendriveson Oliveira', 'Pedro Parque Silva', 'Marilia Mendes', 'Daniel Ricardo', 'Jordan Maicou Souza']\n",
            "['Istive Jobs', 'Pendriveson Oliveira', 'Pedro Parque Silva', 'Marilia Mendes', 'Daniel Ricardo', 'Jordan Maicou Souza']\n",
            "['Pendriveson Oliveira', 'Pedro Parque Silva', 'Marilia Mendes', 'Daniel Ricardo', 'Jordan Maicou Souza']\n",
            "['Pedro Parque Silva', 'Marilia Mendes', 'Daniel Ricardo', 'Jordan Maicou Souza']\n",
            "['Marilia Mendes', 'Daniel Ricardo', 'Jordan Maicou Souza']\n",
            "['Daniel Ricardo', 'Jordan Maicou Souza']\n",
            "['Jordan Maicou Souza']\n"
          ]
        }
      ]
    },
    {
      "cell_type": "markdown",
      "source": [
        "# Imagine ter que armazenar dados onde haja um tipo de associação, por exemplo, nomes de jogadores de futebol e a quantidade de gols. Nestes casos, usa-se o conceito de **dicionário**. Neste tipo de armazenamento, já será possível tratar a associação entre nome do jogador e a quantidade de gols. Observe:"
      ],
      "metadata": {
        "id": "vK_TbpJqAxnS"
      }
    },
    {
      "cell_type": "code",
      "source": [
        "artilharia = {'Marrentinho Carioca':12,'Fred Frinstone':5,'Ruizinho Mineiro':1, 'José Marreta':25} #formato de inicialização deste dicionário chamado artilharia"
      ],
      "metadata": {
        "id": "5qrOjgm_BJGo"
      },
      "execution_count": null,
      "outputs": []
    },
    {
      "cell_type": "code",
      "source": [
        "artilharia['Fred Frinstone'] += 3 # Adicionei 3 gols à contagem do Fred\n",
        "artilharia['Réuri Quem'] = 16 # Adicionei um novo jogador ao dicionário\n",
        "print(artilharia['José Marreta']) # Imprime o dado referente ao jogador José Marreta\n",
        "print(artilharia) #imprime na tela os dados que estão no dicionário"
      ],
      "metadata": {
        "id": "R9PWEtLgBzb4"
      },
      "execution_count": null,
      "outputs": []
    },
    {
      "cell_type": "code",
      "source": [
        "artilharia.pop('Ruizinho Mineiro') #exclui o dado do jogador Ruizinho\n",
        "print(artilharia) #imprime o dicionário"
      ],
      "metadata": {
        "id": "Tuh5ofN_CchW"
      },
      "execution_count": null,
      "outputs": []
    },
    {
      "cell_type": "markdown",
      "source": [
        "# E finalmente... as 'tuplas'.\n",
        "# **Tuplas** são listas ordenadas que não permitem edições. O conteúdo das tuplas são acessados diretamente pelo seu índice e podem conter diversos tipos de dados.\n",
        "Observe:\n"
      ],
      "metadata": {
        "id": "DX6GUvxoDDKO"
      }
    },
    {
      "cell_type": "code",
      "source": [
        "dados_pessoais=(2005, 'Antonio David', 'Aprovado', 1.68)\n",
        "print(dados_pessoais)\n",
        "print(dados_pessoais[2])\n",
        "if dados_pessoais[3]>1.50: #testa a coordenada 3 da tupla dados_pessoais. Se ela for maior que 1.50m, o algoritmo indicará.\n",
        "  print('Sua altura é maior que 1,50m')"
      ],
      "metadata": {
        "id": "K4Af0bGtDakm"
      },
      "execution_count": null,
      "outputs": []
    },
    {
      "cell_type": "markdown",
      "source": [
        "## Resumindo:\n",
        "**Listas** são ordenadas, editáveis e cada item está associado a um índice;\n",
        "**Dicionários **não são ordenados, são editáveis e cada item está associado a uma chave;\n",
        "**Tuplas** são ordenadas, não editáveis e cada item está associado a um índice.\n",
        "Aproveite as células abaixo e exercite:"
      ],
      "metadata": {
        "id": "-PNho_NJEw0P"
      }
    },
    {
      "cell_type": "markdown",
      "source": [
        "Crie uma lista que indique alturas de alunos. Utilize os campos de execução abaixo e crie listas, dicionários e tuplas. Execute alguns códigos apresentados acima."
      ],
      "metadata": {
        "id": "-Tkrr1ZPFu9l"
      }
    },
    {
      "cell_type": "markdown",
      "source": [
        "ATIVIDADE - Lista:\n",
        "1. Crie uma lista contendo as alturas de 5 pessoas;\n",
        "2. Utilize o método len() aliado a um for e calcule a média de altura dessa lista;\n",
        "3. Inclua dois valores na lista;"
      ],
      "metadata": {
        "id": "2zoEgdEBWRoy"
      }
    },
    {
      "cell_type": "code",
      "source": [
        "\n"
      ],
      "metadata": {
        "id": "0Qm_bLlJFY53"
      },
      "execution_count": null,
      "outputs": []
    },
    {
      "cell_type": "markdown",
      "source": [
        "ATIVIDADE - dicionário:\n",
        "\n",
        "1. Utilize a estrutura de dicionários e crie um dicionário contendo nome e altura de 5 pessoas. A cada pessoa diferente, associar (:) uma altura;\n",
        "2. Calcule a média de altura dessas pessoas;\n",
        "3. Imprima na tela os dados do dicionário em forma de tabela, cada linha deverá conter um índice (começando em 1), o nome e a respectiva altura;\n"
      ],
      "metadata": {
        "id": "BRylv1TSXQ4j"
      }
    },
    {
      "cell_type": "code",
      "source": [],
      "metadata": {
        "id": "ZwHP3lb2Hj68"
      },
      "execution_count": null,
      "outputs": []
    },
    {
      "cell_type": "markdown",
      "source": [
        "ATIVIDADE - Tuplas\n",
        "1. Crie uma Tupla com dados de um usuário de um sistema de pedidos contendo código do cliente, nome, CEP, total dos ultimos 3 pedidos e telefone;\n",
        "2. Crie uma mensagem que depende do valor dos últimos 3 pedidos. Se tal valor for superior a 50 reais, ofereça um desconto de 5%."
      ],
      "metadata": {
        "id": "DZYjdDnJbkaA"
      }
    },
    {
      "cell_type": "code",
      "source": [],
      "metadata": {
        "id": "u-0G8-p3dGGg"
      },
      "execution_count": null,
      "outputs": []
    }
  ]
}