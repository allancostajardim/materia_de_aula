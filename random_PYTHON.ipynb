{
  "nbformat": 4,
  "nbformat_minor": 0,
  "metadata": {
    "colab": {
      "provenance": [],
      "authorship_tag": "ABX9TyMdqliRIxRjqNHkL6+S8Sez",
      "include_colab_link": true
    },
    "kernelspec": {
      "name": "python3",
      "display_name": "Python 3"
    },
    "language_info": {
      "name": "python"
    }
  },
  "cells": [
    {
      "cell_type": "markdown",
      "metadata": {
        "id": "view-in-github",
        "colab_type": "text"
      },
      "source": [
        "<a href=\"https://colab.research.google.com/github/allancostajardim/materia_de_aula/blob/main/random_PYTHON.ipynb\" target=\"_parent\"><img src=\"https://colab.research.google.com/assets/colab-badge.svg\" alt=\"Open In Colab\"/></a>"
      ]
    },
    {
      "cell_type": "markdown",
      "source": [
        "## DISCIPLINA LINGUAGEM DE PROGRAMAÇÃO - PROF. ALLAN JARDIM\n",
        "## IFES - CAMPUS SÃO MATEUS - ENG. MECÂNICA 2022/2\n",
        "# Acompanhe os métodos a seguir para entender um pouco mais a respeito da manipulação de variáveis e listas em Python.\n",
        "\n",
        "Este colab tratará das possibilidades de geração de dados aleatórios (randômicos) em python.\n",
        "Para tal, utilizaremos o pacote '**random**'."
      ],
      "metadata": {
        "id": "0A_Px6wyfe5f"
      }
    },
    {
      "cell_type": "code",
      "execution_count": 2,
      "metadata": {
        "id": "izPSmTQfcMbo"
      },
      "outputs": [],
      "source": [
        "import random  #importando a biblioteca random"
      ]
    },
    {
      "cell_type": "code",
      "source": [
        "#gerando 3  números do tipio float através do random.random()\n",
        "for i in range(3):\n",
        "  print(random.random())"
      ],
      "metadata": {
        "colab": {
          "base_uri": "https://localhost:8080/"
        },
        "id": "fEeJhTuAcTZb",
        "outputId": "1ceb7b2d-7931-4e75-d203-70c070810ade"
      },
      "execution_count": null,
      "outputs": [
        {
          "output_type": "stream",
          "name": "stdout",
          "text": [
            "0.38639066347333806\n",
            "0.5843001233035245\n",
            "0.9868802346574874\n"
          ]
        }
      ]
    },
    {
      "cell_type": "code",
      "source": [
        "#gerando 5 números inteiros aleatórios menores ou iguais a 7, com intervalo que varia à medida que 'i' percorre valores inteiros entre 1 e 5.\n",
        "i=1\n",
        "for i in range(5):\n",
        "  print(random.randint(i,7))"
      ],
      "metadata": {
        "colab": {
          "base_uri": "https://localhost:8080/"
        },
        "id": "Ug_u9YejciJK",
        "outputId": "d4af79ea-9b2d-4f72-cade-ec5be1276a8e"
      },
      "execution_count": null,
      "outputs": [
        {
          "output_type": "stream",
          "name": "stdout",
          "text": [
            "0\n",
            "1\n",
            "5\n",
            "3\n",
            "5\n"
          ]
        }
      ]
    },
    {
      "cell_type": "code",
      "source": [
        "random.uniform(0,1)    #gerando números do tipo float aleatoriamente, em um intervalo definido. Neste caso, entre 0 e 1."
      ],
      "metadata": {
        "colab": {
          "base_uri": "https://localhost:8080/"
        },
        "id": "kYnkwAMPcsKW",
        "outputId": "73b6903a-256e-4f7e-fb14-6fc2bf4090ec"
      },
      "execution_count": null,
      "outputs": [
        {
          "output_type": "execute_result",
          "data": {
            "text/plain": [
              "0.7672518273113587"
            ]
          },
          "metadata": {},
          "execution_count": 11
        }
      ]
    },
    {
      "cell_type": "code",
      "source": [
        "#Utilizando o random.choice() para se escolher aleatoriamente dados em uma lista. Observe que há reposição, ou seja, um mesmo dado pode ser escolhido mais de uma vez\n",
        "lista = ['amarelo','azul','branco','verde','vermelho','preto','branco','roxo','marrom','rosa']\n",
        "for i in range(3):\n",
        "  print(random.choice(lista))"
      ],
      "metadata": {
        "colab": {
          "base_uri": "https://localhost:8080/"
        },
        "id": "BiWj8j3LeN7r",
        "outputId": "d3629875-660c-45af-8119-e954eb3f644f"
      },
      "execution_count": null,
      "outputs": [
        {
          "output_type": "stream",
          "name": "stdout",
          "text": [
            "vermelho\n",
            "preto\n",
            "vermelho\n"
          ]
        }
      ]
    },
    {
      "cell_type": "code",
      "source": [
        "print(random.choices(lista,k=4)) #aqui o método choices gera as escolhas (com reposição) e armazena em uma lista."
      ],
      "metadata": {
        "colab": {
          "base_uri": "https://localhost:8080/"
        },
        "id": "pT16U9vhfC6_",
        "outputId": "1ebd5c03-2b9b-46bf-ae74-06c44d852d32"
      },
      "execution_count": null,
      "outputs": [
        {
          "output_type": "stream",
          "name": "stdout",
          "text": [
            "['marrom', 'azul', 'rosa', 'azul']\n"
          ]
        }
      ]
    },
    {
      "cell_type": "code",
      "source": [
        "print(random.sample(lista,4)) #escolha aleatória de 4 elementos da lista, desta vez, sem reposição/repetição."
      ],
      "metadata": {
        "colab": {
          "base_uri": "https://localhost:8080/"
        },
        "id": "ax8vsSjsfMI0",
        "outputId": "f9ff0cd7-1f31-476c-9c09-99e3d281abd1"
      },
      "execution_count": null,
      "outputs": [
        {
          "output_type": "stream",
          "name": "stdout",
          "text": [
            "['roxo', 'amarelo', 'branco', 'vermelho']\n"
          ]
        }
      ]
    },
    {
      "cell_type": "markdown",
      "source": [
        "# Podemos criar um jogo simples com o auxílio deste pacote. Neste jogo, você deverá tentar adivinhar um número escolhido ao acaso pelo Python.\n",
        "Observe:"
      ],
      "metadata": {
        "id": "5lo-dLeMhe6I"
      }
    },
    {
      "cell_type": "code",
      "source": [
        "num_pc = random.randint(1,100) #Número escolhido aleatoriamente entre 1 e 100\n",
        "num_hum = int(input('TENTE ADIVINHAR O NÚMERO QUE ESTOU PENSANDO:')) #primeiro 'palpite' humano\n",
        "pontos = int(100) #pontuação começando com 100\n",
        "while (int(num_hum) != num_pc): #o algoritmo será executado enquanto o palpite humano for diferente do número escolhido pela máquina.\n",
        "  if int(num_hum) < num_pc:\n",
        "    print(f'O número {num_hum} é menor do que o procurado.')\n",
        "    num_hum = input('Digite outro número: ')\n",
        "    pontos = pontos -1\n",
        "  if (int(num_hum) > num_pc):\n",
        "    print(f'O número {num_hum} é maior do que o procurado.')\n",
        "    num_hum = input('Digite outro número')\n",
        "    pontos = pontos -1\n",
        "  if (int(num_hum) == num_pc):\n",
        "    print(f'Parabéns! O número a ser encontrado era {num_pc} e você atingiu {pontos} pontos')"
      ],
      "metadata": {
        "colab": {
          "base_uri": "https://localhost:8080/"
        },
        "id": "wu5vtZ8_hdGR",
        "outputId": "c06e76be-5804-4011-8d88-71b064c38d19"
      },
      "execution_count": 4,
      "outputs": [
        {
          "output_type": "stream",
          "name": "stdout",
          "text": [
            "TENTE ADIVINHAR O NÚMERO QUE ESTOU PENSANDO:50\n",
            "O número 50 é menor do que o procurado.\n",
            "Digite outro número: 75\n",
            "O número 75 é maior do que o procurado.\n",
            "Digite outro número65\n",
            "O número 65 é maior do que o procurado.\n",
            "Digite outro número58\n",
            "O número 58 é maior do que o procurado.\n",
            "Digite outro número54\n",
            "O número 54 é maior do que o procurado.\n",
            "Digite outro número52\n",
            "O número 52 é menor do que o procurado.\n",
            "Digite outro número: 53\n",
            "Parabéns! O número a ser encontrado era 53 e você atingiu 94 pontos\n"
          ]
        }
      ]
    }
  ]
}